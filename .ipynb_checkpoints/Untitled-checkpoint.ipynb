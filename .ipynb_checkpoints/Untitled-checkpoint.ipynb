{
 "cells": [
  {
   "cell_type": "code",
   "execution_count": null,
   "id": "489d2a01",
   "metadata": {},
   "outputs": [],
   "source": [
    "data= pd.read_csv(\"EntryOfContacts.csv\")\n",
    "data"
   ]
  },
  {
   "cell_type": "code",
   "execution_count": null,
   "id": "12099648",
   "metadata": {},
   "outputs": [],
   "source": [
    "def send_mail(contact_name, contact_company, email):\n",
    "    email_content= \"\"\"<p>Dear Sir/Madam, I am writing on behalf of my internship at Hackveda\n",
    "    regarding my interest in your company\"\"\" +str(contact_company)+ \"\"\" We have been acquaintance Mr.\"\"\" +str(contact_name)\"\"\"\n",
    "    </p>\n",
    "    <p>Regards</p>\n",
    "    <p><b>Harsh</b></p>\"\"\"\n",
    "    \n",
    "    sender_address = \"cybercreatorharsh@gmail.com\"\n",
    "    sender_address_name= \"Harsh <cybercreatorharsh@gmail.com>\"\n",
    "    sender_password= \"<yourpassword\">\n",
    "    reciever_address=email\n",
    "    \n",
    "    message= MIMEMultipart()\n",
    "    message[\"From\"]= sender_address_name\n",
    "    message[\"To\"]= receiver_address\n",
    "    message[\"Subject\"]= \"Information required about \"+str(event_name)\n",
    "    \n",
    "    message.attach(MIMEText(email_content, \"html\"))\n",
    "    \n",
    "    attach_file_name= \"HarshResume.pdf\"\n",
    "    attach_file= open(attach_file_name, \"rb\")\n",
    "    payload= MIMEBase('application', 'octate-stream')\n",
    "    payload.set_payload((attach_file).read())\n",
    "    encoders.encode_base64(payload)\n",
    "    payload.add_header(\"Content-Disposition\", \"attachment\", filename=\"My Resume.pdf\")\n",
    "    message.attach(payload)\n",
    "    \n",
    "    session= smtplib.SMTP(\"smtp.gmail.com\", 587)\n",
    "    session.starttls()\n",
    "    session.login(sender_address_name, sender_password) # Enable Less Secure App Option\n",
    "    text= message.as_string()\n",
    "    session.sendmail(sender_address, receiver_address, text)\n",
    "    session.quit()\n",
    "    print(\"Mail sent to\", receiver_address)"
   ]
  },
  {
   "cell_type": "code",
   "execution_count": null,
   "id": "808cfe0c",
   "metadata": {},
   "outputs": [],
   "source": [
    "import smtplib\n",
    "from email.mime.multipart import MIMEMultipart\n",
    "from email.mime.text import MIMEText\n",
    "from email.mime.base import MIMEBase\n",
    "from email import encoders\n",
    "\n",
    "for contact in data.iterrows():\n",
    "    contact_name=contact[1][\"Contact Name\"]\n",
    "    #event_name= event_name.replace(\"Read More\", \"\")\n",
    "    contact_company=contact[1][\"Company\"]\n",
    "    email=event[1][\"Email\"]\n",
    "    \n",
    "    send_mail(contact_name, contact_company, email) #Production\n",
    "#     send_mail(\"Summer Internship\", \"1st June\", \"harshgarg2550@gmail.com\") #Testing\n",
    "    \n",
    "\n",
    "print(\"Process Complete\")"
   ]
  }
 ],
 "metadata": {
  "kernelspec": {
   "display_name": "Python 3 (ipykernel)",
   "language": "python",
   "name": "python3"
  },
  "language_info": {
   "codemirror_mode": {
    "name": "ipython",
    "version": 3
   },
   "file_extension": ".py",
   "mimetype": "text/x-python",
   "name": "python",
   "nbconvert_exporter": "python",
   "pygments_lexer": "ipython3",
   "version": "3.10.1"
  }
 },
 "nbformat": 4,
 "nbformat_minor": 5
}
