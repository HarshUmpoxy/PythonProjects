{
 "cells": [
  {
   "cell_type": "code",
   "execution_count": 1,
   "id": "92fab12e",
   "metadata": {},
   "outputs": [
    {
     "name": "stdout",
     "output_type": "stream",
     "text": [
      "Enter the email id of the receipt.harshgarg2550@gmail.com\n"
     ]
    }
   ],
   "source": [
    "from email.message import EmailMessage\n",
    "from passwordfile import password_my\n",
    "\n",
    "import ssl\n",
    "import smtplib\n",
    "\n",
    "email_sender= 'cybercreatorharsh@gmail.com'\n",
    "email_password= \"xmlrgquqmkrnyzvg\"\n",
    "\n",
    "email_receiver=input(\"Enter the email id of the receipt.\")\n",
    "\n",
    "subject= \"Sample Mail\"\n",
    "body=\"\"\"This is an automated mail generated using python.\n",
    "Regards\n",
    "Harsh\"\"\"\n",
    "\n",
    "em=EmailMessage()\n",
    "em['From']= email_sender\n",
    "em['To']=email_receiver\n",
    "em['subject']=subject\n",
    "em.set_content(body)\n",
    "\n",
    "context= ssl.create_default_context()\n",
    "\n",
    "with smtplib.SMTP_SSL('smtp.gmail.com', 465, context=context) as smtp:\n",
    "    smtp.login(email_sender, email_password)\n",
    "    smtp.sendmail(email_sender, email_receiver, em.as_string())\n",
    "    \n"
   ]
  },
  {
   "cell_type": "code",
   "execution_count": null,
   "id": "593e4aab",
   "metadata": {},
   "outputs": [],
   "source": []
  }
 ],
 "metadata": {
  "kernelspec": {
   "display_name": "Python 3 (ipykernel)",
   "language": "python",
   "name": "python3"
  },
  "language_info": {
   "codemirror_mode": {
    "name": "ipython",
    "version": 3
   },
   "file_extension": ".py",
   "mimetype": "text/x-python",
   "name": "python",
   "nbconvert_exporter": "python",
   "pygments_lexer": "ipython3",
   "version": "3.10.1"
  }
 },
 "nbformat": 4,
 "nbformat_minor": 5
}
